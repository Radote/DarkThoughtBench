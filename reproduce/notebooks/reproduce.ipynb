{
 "cells": [
  {
   "cell_type": "code",
   "execution_count": null,
   "id": "c3f8dcae",
   "metadata": {},
   "outputs": [],
   "source": [
    "! pip install -e ..\n",
    "! pip install openai"
   ]
  },
  {
   "cell_type": "code",
   "execution_count": null,
   "id": "4982c4f9",
   "metadata": {},
   "outputs": [],
   "source": [
    "import os\n",
    "from inspect_ai import eval\n",
    "from darkthoughtbench.task import darkthoughtbench\n",
    "from IPython.display import Image, display"
   ]
  },
  {
   "cell_type": "code",
   "execution_count": null,
   "id": "23f61109",
   "metadata": {},
   "outputs": [],
   "source": [
    "os.environ['GOOGLE_API_KEY'] = 'your-google-api-key'\n",
    "os.environ['ANTHROPIC_API_KEY'] = 'your-anthropic-api-key'\n",
    "os.environ['OPENAI_API_KEY'] = 'your-deepseek-api-key'"
   ]
  },
  {
   "cell_type": "code",
   "execution_count": null,
   "id": "b79d8eee",
   "metadata": {},
   "outputs": [],
   "source": [
    "log_r1 = eval(tasks=darkthoughtbench(model_is_reasoning=True), model_base_url='https://api.deepseek.com', model='openai/deepseek-reasoner', log_dir='../logs')\n",
    "\n",
    "old_log_r1_path = log_r1[0].location\n",
    "log_r1_directory = os.path.dirname(old_log_r1_path)\n",
    "new_log_r1_filename = 'DeepSeek-R1_with_CoT.eval'\n",
    "new_log_r1_path = os.path.join(log_r1_directory, new_log_r1_filename)\n",
    "os.rename(old_log_r1_path, new_log_r1_path)"
   ]
  },
  {
   "cell_type": "code",
   "execution_count": null,
   "id": "99dc57bf",
   "metadata": {},
   "outputs": [],
   "source": [
    "log_v3 = eval(tasks=darkthoughtbench(model_is_reasoning=False), model_base_url='https://api.deepseek.com', model='openai/deepseek-chat', log_dir='../logs')\n",
    "\n",
    "old_log_v3_path = log_v3[0].location\n",
    "log_v3_directory = os.path.dirname(old_log_v3_path)\n",
    "new_log_v3_filename = 'DeepSeek-V3.eval'\n",
    "new_log_v3_path = os.path.join(log_v3_directory, new_log_v3_filename)\n",
    "os.rename(old_log_v3_path, new_log_v3_path)"
   ]
  },
  {
   "cell_type": "code",
   "execution_count": null,
   "id": "0c0f323b",
   "metadata": {},
   "outputs": [],
   "source": [
    "! (cd .. && inspect view)"
   ]
  },
  {
   "cell_type": "code",
   "execution_count": null,
   "id": "537dbe84",
   "metadata": {},
   "outputs": [],
   "source": [
    "os.environ['OPENAI_API_KEY'] = 'your-openai-api-key'"
   ]
  },
  {
   "cell_type": "code",
   "execution_count": null,
   "id": "3cadcd37",
   "metadata": {},
   "outputs": [],
   "source": [
    "! python ../src/CoT_response_consistency.py"
   ]
  },
  {
   "cell_type": "code",
   "execution_count": null,
   "id": "266b01d2",
   "metadata": {},
   "outputs": [],
   "source": [
    "folder = '../plots'\n",
    "for file in os.listdir(folder):\n",
    "    if file.endswith('.png'):\n",
    "        print(os.path.splitext(file)[0])\n",
    "        display(Image(filename=os.path.join(folder, file)))"
   ]
  }
 ],
 "metadata": {
  "kernelspec": {
   "display_name": "darkbench",
   "language": "python",
   "name": "python3"
  },
  "language_info": {
   "codemirror_mode": {
    "name": "ipython",
    "version": 3
   },
   "file_extension": ".py",
   "mimetype": "text/x-python",
   "name": "python",
   "nbconvert_exporter": "python",
   "pygments_lexer": "ipython3",
   "version": "3.11.11"
  }
 },
 "nbformat": 4,
 "nbformat_minor": 5
}
